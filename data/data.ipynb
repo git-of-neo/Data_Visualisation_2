{
 "cells": [
  {
   "cell_type": "code",
   "execution_count": 2,
   "source": [
    "import pandas as pd\r\n",
    "\r\n",
    "# check ordering\r\n",
    "y2021 = pd.read_csv(\"world-happiness-report-2021.csv\")['Ladder score'].to_list()\r\n",
    "print(y2021 == sorted(y2021,reverse=True))\r\n",
    "# 2021 already sorted by score (descending) i.e. according to rank\r\n",
    "\r\n",
    "y2020 = pd.read_csv(\"2020.csv\")['Ladder score'].to_list()\r\n",
    "print(y2020 == sorted(y2020,reverse=True))\r\n",
    "# 2020 already sorted by score (descending) i.e. according to rank\r\n",
    "# top_10_rank.csv manually created -> just copy paste the top 10 and clean the data based on needs since the files are already sorted"
   ],
   "outputs": [
    {
     "output_type": "stream",
     "name": "stdout",
     "text": [
      "True\n",
      "True\n"
     ]
    }
   ],
   "metadata": {}
  },
  {
   "cell_type": "code",
   "execution_count": 3,
   "source": [
    "# generate mover file\r\n",
    "f2021 = open(\"world-happiness-report-2021.csv\",\"r\").readlines()\r\n",
    "f2021 = [x.split(sep=\",\") for x in f2021]\r\n",
    "\r\n",
    "f2020 = open(\"2020.csv\",\"r\").readlines()\r\n",
    "f2020 = [x.split(sep=\",\") for x in f2020]\r\n",
    "\r\n",
    "dict2021 = {}\r\n",
    "dict2020 = {}\r\n",
    "\r\n",
    "for i in range(1,len(f2021)):\r\n",
    "    dict2021[f2021[i][0]] = i\r\n",
    "\r\n",
    "for i in range(1,len(f2020)):\r\n",
    "    dict2020[f2020[i][0]] = i\r\n",
    "\r\n",
    "set2021 = set(list(dict2021))\r\n",
    "set2020 = set(list(dict2020))\r\n",
    "\r\n",
    "# assign rank based on absolute change (largest movers to smallest movers)\r\n",
    "collection = []\r\n",
    "for key in list(set2021.intersection(set2020)):\r\n",
    "    collection.append([key, -(dict2021[key] - dict2020[key])])\r\n",
    "collection.sort(key = lambda x : abs(x[1]),reverse=True)\r\n",
    "for i in range(len(collection)):\r\n",
    "    collection[i].append(i+1)\r\n",
    "\r\n",
    "output = open(\"movers.csv\", \"w\")\r\n",
    "output.write(\"Country name,Change,Rank\\n\")\r\n",
    "for item in collection:\r\n",
    "    output.write(\"{},{},{}\\n\".format(item[0],item[1],item[2]))\r\n",
    "output.close()\r\n"
   ],
   "outputs": [],
   "metadata": {}
  },
  {
   "cell_type": "code",
   "execution_count": 4,
   "source": [
    "# create custom ordering\r\n",
    "f = open(\"movers.csv\", \"r\")\r\n",
    "f.readline()\r\n",
    "rows = []\r\n",
    "while True:\r\n",
    "    rows.append(f.readline().split(\",\"))\r\n",
    "    if abs(int(rows[-1][1]))<10:\r\n",
    "        break\r\n",
    "f.close()\r\n",
    "rows.sort(key = lambda x:int(x[1]))\r\n",
    "rows = ['\"{}\"'.format(x[0]) for x in rows]\r\n",
    "for i in range(len(rows)):\r\n",
    "    row = rows[i] \r\n",
    "    if i ==0:\r\n",
    "        row = \"[\" +row\r\n",
    "    if i==len(rows)-1:\r\n",
    "        row = row+\"]\"\r\n",
    "    else:\r\n",
    "        row = row + \",\"\r\n",
    "    print(row)\r\n",
    "        "
   ],
   "outputs": [
    {
     "output_type": "stream",
     "name": "stdout",
     "text": [
      "[\"Pakistan\",\n",
      "\"El Salvador\",\n",
      "\"Benin\",\n",
      "\"Lebanon\",\n",
      "\"Mexico\",\n",
      "\"Turkey\",\n",
      "\"Philippines\",\n",
      "\"China\",\n",
      "\"Estonia\",\n",
      "\"Mongolia\",\n",
      "\"Albania\",\n",
      "\"Ukraine\",\n",
      "\"Gambia\",\n",
      "\"Serbia\",\n",
      "\"Bahrain\",\n",
      "\"Croatia\",\n",
      "\"Jamaica\",\n",
      "\"Armenia\"]\n"
     ]
    }
   ],
   "metadata": {}
  },
  {
   "cell_type": "code",
   "execution_count": 9,
   "source": [
    "# gathering regions\r\n",
    "import random\r\n",
    "random.seed(123)\r\n",
    "\r\n",
    "y2021 = pd.read_csv(\"world-happiness-report-2021.csv\")\r\n",
    "regions = y2021['Regional indicator'].unique().tolist()\r\n",
    "random.shuffle(regions)\r\n",
    "regions"
   ],
   "outputs": [
    {
     "output_type": "execute_result",
     "data": {
      "text/plain": [
       "['Sub-Saharan Africa',\n",
       " 'Commonwealth of Independent States',\n",
       " 'East Asia',\n",
       " 'South Asia',\n",
       " 'Middle East and North Africa',\n",
       " 'Latin America and Caribbean',\n",
       " 'Southeast Asia',\n",
       " 'North America and ANZ',\n",
       " 'Central and Eastern Europe',\n",
       " 'Western Europe']"
      ]
     },
     "metadata": {},
     "execution_count": 9
    }
   ],
   "metadata": {}
  },
  {
   "cell_type": "code",
   "execution_count": 10,
   "source": [
    "# add jitter\r\n",
    "output = open(\"jitter.csv\", \"w\")\r\n",
    "output.write(\"Jitter,Country name,Regional indicator,Ladder score\\n\")\r\n",
    "for i in range(len(y2021)):\r\n",
    "    row = y2021.iloc[i]\r\n",
    "    jitter = regions.index(row['Regional indicator']) + round(random.uniform(-0.2,0.2)*10)/10 # index + [-0.3,0.3]\r\n",
    "    output.write(\"{},{},{},{}\\n\".format(jitter,row['Country name'],row['Regional indicator'],row['Ladder score']))\r\n",
    "output.close()"
   ],
   "outputs": [],
   "metadata": {}
  },
  {
   "cell_type": "code",
   "execution_count": 13,
   "source": [
    "output = open(\"shade.csv\", \"w\")\r\n",
    "output.write(\"Position,Average ladder score\\n\")\r\n",
    "for i in range(-1,10):\r\n",
    "    output.write(\"{},{}\\n\".format(i,y2021['Ladder score'].mean()))\r\n",
    "output.close()"
   ],
   "outputs": [],
   "metadata": {}
  },
  {
   "cell_type": "code",
   "execution_count": null,
   "source": [],
   "outputs": [],
   "metadata": {}
  }
 ],
 "metadata": {
  "orig_nbformat": 4,
  "language_info": {
   "name": "python",
   "version": "3.7.11",
   "mimetype": "text/x-python",
   "codemirror_mode": {
    "name": "ipython",
    "version": 3
   },
   "pygments_lexer": "ipython3",
   "nbconvert_exporter": "python",
   "file_extension": ".py"
  },
  "kernelspec": {
   "name": "python3",
   "display_name": "Python 3.7.11 64-bit (conda)"
  },
  "interpreter": {
   "hash": "6758c8d7e0374ab4b751f2c27ba5d00ba7438d2357a7c85db8038e4c08ed8aff"
  }
 },
 "nbformat": 4,
 "nbformat_minor": 2
}