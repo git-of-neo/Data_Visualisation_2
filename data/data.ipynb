{
 "cells": [
  {
   "cell_type": "code",
   "execution_count": 2,
   "source": [
    "import pandas as pd\r\n",
    "\r\n",
    "# check ordering\r\n",
    "y2021 = pd.read_csv(\"world-happiness-report-2021.csv\")['Ladder score'].to_list()\r\n",
    "print(y2021 == sorted(y2021,reverse=True))\r\n",
    "# 2021 already sorted by score (descending) i.e. according to rank\r\n",
    "\r\n",
    "y2020 = pd.read_csv(\"2020.csv\")['Ladder score'].to_list()\r\n",
    "print(y2020 == sorted(y2020,reverse=True))\r\n",
    "# 2020 already sorted by score (descending) i.e. according to rank\r\n",
    "# top_10_rank.csv manually created -> just copy paste the top 10 and clean the data based on needs since the files are already sorted"
   ],
   "outputs": [
    {
     "output_type": "stream",
     "name": "stdout",
     "text": [
      "True\n",
      "True\n"
     ]
    }
   ],
   "metadata": {}
  },
  {
   "cell_type": "code",
   "execution_count": 10,
   "source": [
    "output = open(\"top_10_rank.csv\", \"w\")\r\n",
    "output.write(\"Year,Country name,Rank,Image\\n\")\r\n",
    "df = pd.read_csv(\"top_10_rank_old.csv\") # old rank file was created by manual copy top (first) 10 rows of each year files\r\n",
    "for i in range(len(df)):\r\n",
    "    output.write(\"{},{},{},{}\\n\".format(df.iloc[i]['Year'], df.iloc[i]['Country name'], df.iloc[i]['Rank'], (\"data/flags/{}.png\".format(df.iloc[i]['Country name'])).replace(\" \",\"_\")))\r\n",
    "output.close()\r\n"
   ],
   "outputs": [],
   "metadata": {}
  },
  {
   "cell_type": "code",
   "execution_count": 18,
   "source": [
    "# gathering regions\r\n",
    "import random\r\n",
    "random.seed(123)\r\n",
    "\r\n",
    "y2021 = pd.read_csv(\"world-happiness-report-2021.csv\")\r\n",
    "regions = y2021['Regional indicator'].unique().tolist()[::-1]\r\n",
    "regions"
   ],
   "outputs": [
    {
     "output_type": "execute_result",
     "data": {
      "text/plain": [
       "['South Asia',\n",
       " 'Sub-Saharan Africa',\n",
       " 'Commonwealth of Independent States',\n",
       " 'Southeast Asia',\n",
       " 'East Asia',\n",
       " 'Central and Eastern Europe',\n",
       " 'Latin America and Caribbean',\n",
       " 'Middle East and North Africa',\n",
       " 'North America and ANZ',\n",
       " 'Western Europe']"
      ]
     },
     "metadata": {},
     "execution_count": 18
    }
   ],
   "metadata": {}
  },
  {
   "cell_type": "code",
   "execution_count": 19,
   "source": [
    "# add jitter\r\n",
    "output = open(\"jitter.csv\", \"w\")\r\n",
    "output.write(\"Jitter,Country name,Regional indicator,Ladder score\\n\")\r\n",
    "for i in range(len(y2021)):\r\n",
    "    row = y2021.iloc[i]\r\n",
    "    jitter = regions.index(row['Regional indicator']) + round(random.uniform(-0.2,0.2)*10)/10 # index + [-0.3,0.3]\r\n",
    "    output.write(\"{},{},{},{}\\n\".format(jitter,row['Country name'],row['Regional indicator'],row['Ladder score']))\r\n",
    "output.close()"
   ],
   "outputs": [],
   "metadata": {}
  },
  {
   "cell_type": "code",
   "execution_count": 15,
   "source": [
    "# global average\r\n",
    "y2021['Ladder score'].mean()"
   ],
   "outputs": [
    {
     "output_type": "execute_result",
     "data": {
      "text/plain": [
       "5.532838926174494"
      ]
     },
     "metadata": {},
     "execution_count": 15
    }
   ],
   "metadata": {}
  },
  {
   "cell_type": "code",
   "execution_count": 27,
   "source": [
    "# regional averages\r\n",
    "output = open(\"regional_average.csv\", \"w\")\r\n",
    "output.write(\"Regional indicator,Ladder score,Jitter\\n\")\r\n",
    "for r in regions:\r\n",
    "    avg = y2021[y2021['Regional indicator'] == r]['Ladder score'].mean()\r\n",
    "    output.write(\"{},{},{}\\n\".format(r, avg, regions.index(r)))\r\n",
    "output.close()"
   ],
   "outputs": [],
   "metadata": {}
  },
  {
   "cell_type": "code",
   "execution_count": null,
   "source": [],
   "outputs": [],
   "metadata": {}
  }
 ],
 "metadata": {
  "orig_nbformat": 4,
  "language_info": {
   "name": "python",
   "version": "3.7.11",
   "mimetype": "text/x-python",
   "codemirror_mode": {
    "name": "ipython",
    "version": 3
   },
   "pygments_lexer": "ipython3",
   "nbconvert_exporter": "python",
   "file_extension": ".py"
  },
  "kernelspec": {
   "name": "python3",
   "display_name": "Python 3.7.11 64-bit (conda)"
  },
  "interpreter": {
   "hash": "6758c8d7e0374ab4b751f2c27ba5d00ba7438d2357a7c85db8038e4c08ed8aff"
  }
 },
 "nbformat": 4,
 "nbformat_minor": 2
}